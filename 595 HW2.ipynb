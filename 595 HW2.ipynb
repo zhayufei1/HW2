{
  "nbformat": 4,
  "nbformat_minor": 0,
  "metadata": {
    "colab": {
      "name": "Untitled12.ipynb",
      "provenance": []
    },
    "kernelspec": {
      "name": "python3",
      "display_name": "Python 3"
    }
  },
  "cells": [
    {
      "cell_type": "code",
      "metadata": {
        "id": "Qe8mHg0czg0K",
        "colab_type": "code",
        "colab": {}
      },
      "source": [
        "import requests\n",
        "import re\n",
        "from bs4 import BeautifulSoup"
      ],
      "execution_count": 0,
      "outputs": []
    },
    {
      "cell_type": "code",
      "metadata": {
        "id": "5DjDgPhlzlLp",
        "colab_type": "code",
        "colab": {}
      },
      "source": [
        "def craw():\n",
        "  url = \" http://18.207.92.139:8000/random_company\"\n",
        "  response = requests.get(url)\n",
        "  content = response.text\n",
        "  soup = BeautifulSoup(content, 'html.parser')\n",
        "  nam = soup.find(text = re.compile('Name'))\n",
        "  purp= soup.find(text = re.compile('Purpose'))\n",
        "  print(nam)\n",
        "  print(purp)\n"
      ],
      "execution_count": 0,
      "outputs": []
    },
    {
      "cell_type": "code",
      "metadata": {
        "id": "ILBw1Bqyzpbo",
        "colab_type": "code",
        "colab": {}
      },
      "source": [
        "def main():\n",
        "    result = open(\"result.txt\", \"w\")\n",
        "    for i in range(50):\n",
        "        craw()\n",
        "    result.close()"
      ],
      "execution_count": 0,
      "outputs": []
    },
    {
      "cell_type": "code",
      "metadata": {
        "id": "Sr5xqeMZzrv1",
        "colab_type": "code",
        "colab": {
          "base_uri": "https://localhost:8080/",
          "height": 1000
        },
        "outputId": "a0aea87a-2d8d-47b5-9cee-98dc280c37c6"
      },
      "source": [
        "if __name__ == \"__main__\":\n",
        "    main()"
      ],
      "execution_count": 155,
      "outputs": [
        {
          "output_type": "stream",
          "text": [
            "Name: Evans Ltd\n",
            "Purpose: Team-oriented upward-trending focus group for redefine synergistic users\n",
            "Name: Martin, Hines and Clark\n",
            "Purpose: Customizable user-facing solution for harness scalable e-services\n",
            "Name: Lopez, Camacho and Bonilla\n",
            "Purpose: Object-based asynchronous ability for innovate B2B mindshare\n",
            "Name: Thompson Group\n",
            "Purpose: Synchronized responsive secured line for scale real-time vortals\n",
            "Name: Hughes and Sons\n",
            "Purpose: Customizable local productivity for optimize open-source e-services\n",
            "Name: Patterson-Stewart\n",
            "Purpose: Automated systematic hierarchy for iterate end-to-end models\n",
            "Name: Moore, Diaz and Stevens\n",
            "Purpose: Devolved empowering complexity for transition virtual metrics\n",
            "Name: Medina-Dorsey\n",
            "Purpose: Seamless interactive concept for aggregate killer e-markets\n",
            "Name: Ferrell-Caldwell\n",
            "Purpose: Horizontal mobile utilization for facilitate back-end models\n",
            "Name: Hubbard LLC\n",
            "Purpose: Organic real-time customer loyalty for leverage cutting-edge e-markets\n",
            "Name: Martinez-Glass\n",
            "Purpose: Inverse encompassing project for reinvent transparent applications\n",
            "Name: Phillips Group\n",
            "Purpose: Innovative scalable artificial intelligence for orchestrate virtual models\n",
            "Name: Newman Ltd\n",
            "Purpose: Adaptive value-added framework for scale cross-platform bandwidth\n",
            "Name: Stevens-King\n",
            "Purpose: Reduced didactic interface for grow next-generation e-business\n",
            "Name: Garrett Inc\n",
            "Purpose: Multi-channeled modular Graphical User Interface for embrace killer convergence\n",
            "Name: Johnson-Gallagher\n",
            "Purpose: Synchronized grid-enabled project for empower visionary eyeballs\n",
            "Name: Pearson-Bass\n",
            "Purpose: Programmable asymmetric open system for deploy interactive users\n",
            "Name: Prince-Johnson\n",
            "Purpose: Realigned static support for mesh e-business solutions\n",
            "Name: Olson-Zimmerman\n",
            "Purpose: Programmable modular customer loyalty for benchmark enterprise e-business\n",
            "Name: Mccoy, Miller and Schmidt\n",
            "Purpose: Upgradable hybrid knowledgebase for unleash frictionless web services\n",
            "Name: Roberts Ltd\n",
            "Purpose: Synergistic methodical superstructure for syndicate B2B e-business\n",
            "Name: Mendoza Ltd\n",
            "Purpose: Advanced 3rdgeneration benchmark for drive real-time interfaces\n",
            "Name: Williams-Henderson\n",
            "Purpose: Profit-focused fresh-thinking open system for drive open-source content\n",
            "Name: Melendez, Tyler and Hammond\n",
            "Purpose: Cross-group scalable customer loyalty for incentivize web-enabled action-items\n",
            "Name: Lynn-Alvarado\n",
            "Purpose: Front-line high-level toolset for leverage seamless portals\n",
            "Name: Smith, Soto and Simpson\n",
            "Purpose: Diverse intermediate Graphic Interface for synergize bricks-and-clicks communities\n",
            "Name: Roberts Group\n",
            "Purpose: Organized zero administration concept for re-contextualize back-end e-tailers\n",
            "Name: Bentley Inc\n",
            "Purpose: Synergistic asymmetric standardization for scale enterprise schemas\n",
            "Name: Ellis Group\n",
            "Purpose: Stand-alone grid-enabled encoding for expedite one-to-one networks\n",
            "Name: Cherry-Bentley\n",
            "Purpose: Universal high-level utilization for embrace frictionless mindshare\n",
            "Name: Kim LLC\n",
            "Purpose: Profit-focused dynamic knowledgebase for enhance cross-platform systems\n",
            "Name: Clark, Baker and White\n",
            "Purpose: User-friendly analyzing product for disintermediate end-to-end architectures\n",
            "Name: Sanders Inc\n",
            "Purpose: Stand-alone bandwidth-monitored budgetary management for enhance intuitive e-services\n",
            "Name: Tran Ltd\n",
            "Purpose: Public-key bottom-line firmware for evolve proactive methodologies\n",
            "Name: Miller Ltd\n",
            "Purpose: Realigned bi-directional process improvement for extend integrated e-markets\n",
            "Name: Diaz Inc\n",
            "Purpose: Switchable optimizing policy for reinvent wireless metrics\n",
            "Name: Winters, Daniels and Mathews\n",
            "Purpose: Optional homogeneous portal for harness 24/7 web-readiness\n",
            "Name: Taylor, Daniels and Taylor\n",
            "Purpose: Up-sized global conglomeration for harness strategic deliverables\n",
            "Name: Warner-Morris\n",
            "Purpose: Multi-channeled bandwidth-monitored portal for evolve out-of-the-box content\n",
            "Name: Hurst PLC\n",
            "Purpose: Grass-roots intermediate benchmark for unleash out-of-the-box relationships\n",
            "Name: Stein Group\n",
            "Purpose: Programmable clear-thinking strategy for re-intermediate collaborative e-markets\n",
            "Name: Collins, Mahoney and Taylor\n",
            "Purpose: Assimilated interactive synergy for evolve bricks-and-clicks architectures\n",
            "Name: Rodriguez Ltd\n",
            "Purpose: Self-enabling encompassing orchestration for facilitate e-business functionalities\n",
            "Name: Williams PLC\n",
            "Purpose: Synchronized background service-desk for syndicate real-time e-markets\n",
            "Name: Reynolds and Sons\n",
            "Purpose: Up-sized multimedia adapter for integrate rich experiences\n",
            "Name: Hobbs Inc\n",
            "Purpose: Horizontal value-added protocol for engage mission-critical technologies\n",
            "Name: Hernandez-Garcia\n",
            "Purpose: Multi-lateral dynamic focus group for facilitate mission-critical functionalities\n",
            "Name: Rivera-Browning\n",
            "Purpose: Focused asynchronous encryption for e-enable plug-and-play web services\n",
            "Name: Oconnell-Watson\n",
            "Purpose: Proactive regional open system for streamline distributed users\n",
            "Name: Gilmore and Sons\n",
            "Purpose: Function-based global secured line for implement robust interfaces\n"
          ],
          "name": "stdout"
        }
      ]
    }
  ]
}